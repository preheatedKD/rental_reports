{
 "cells": [
  {
   "cell_type": "code",
   "execution_count": 1,
   "id": "7e3aef3f",
   "metadata": {},
   "outputs": [],
   "source": [
    "%reset -s -f"
   ]
  },
  {
   "cell_type": "code",
   "execution_count": 2,
   "id": "03b01b60",
   "metadata": {},
   "outputs": [
    {
     "data": {
      "text/html": [
       "<style>.container { width:100% !important; }</style>"
      ],
      "text/plain": [
       "<IPython.core.display.HTML object>"
      ]
     },
     "metadata": {},
     "output_type": "display_data"
    }
   ],
   "source": [
    "from IPython.core.display import display, HTML\n",
    "display(HTML(\"<style>.container { width:100% !important; }</style>\"))"
   ]
  },
  {
   "cell_type": "code",
   "execution_count": 3,
   "id": "11563e6a",
   "metadata": {},
   "outputs": [],
   "source": [
    "import os\n",
    "import io\n",
    "import sys\n",
    "import time\n",
    "import glob\n",
    "import tabula\n",
    "import autopep8\n",
    "import contextlib\n",
    "import numpy as np\n",
    "import pandas as pd\n",
    "import seaborn as sns\n",
    "import plotly.express as px\n",
    "import matplotlib.pyplot as plt\n",
    "from IPython.display import display\n",
    "\n",
    "%matplotlib inline"
   ]
  },
  {
   "cell_type": "code",
   "execution_count": 4,
   "id": "7501b735",
   "metadata": {},
   "outputs": [],
   "source": [
    "data_dir = \"./data/*.pdf\"\n",
    "report_list = sorted(glob.glob(f\"{data_dir}\"))"
   ]
  },
  {
   "cell_type": "markdown",
   "id": "c38403e7",
   "metadata": {},
   "source": [
    "## Process all quarterly reports in data directory"
   ]
  },
  {
   "cell_type": "code",
   "execution_count": 5,
   "id": "64ec387f",
   "metadata": {},
   "outputs": [],
   "source": [
    "def proc_reports():\n",
    "    cost_list = []\n",
    "\n",
    "    for report in report_list:\n",
    "        print(report)\n",
    "        tables = tabula.read_pdf(report, pages=2, lattice=True, stream=True)\n",
    "        tab_arr = tables[0].values\n",
    "        tab_arr = tab_arr[(tab_arr[:, 0] == 'City of Toronto')\n",
    "                          | (tab_arr[:, 0] == 'Brampton')]\n",
    "\n",
    "        if tab_arr.shape[1] == 11:\n",
    "            np.array([0, 0])[:, np.newaxis]\n",
    "            tab_arr = np.insert(tab_arr, 1, [0, 0], axis=1)\n",
    "\n",
    "        cost_array = tab_arr[:, [0, 5, 7, 9, 11]]\n",
    "        \n",
    "        cost_df = pd.DataFrame(cost_array, columns=['City', 'Bachelor', 'One-Bedroom','Two-Bedroom', 'Three-Bedroom']).astype('str')\n",
    "        cost_df = cost_df.applymap(lambda x: x.replace('$','').replace(',',''))\n",
    "        \n",
    "        qr_yr = report.split('report_')[-1].replace('.pdf', '')\n",
    "        qr, yr = qr_yr.strip().split('-')\n",
    "        \n",
    "        cost_df['year'] = f\"{yr}_{qr}\"\n",
    "        cost_list.append(cost_df)\n",
    "\n",
    "    return cost_list"
   ]
  },
  {
   "cell_type": "code",
   "execution_count": 6,
   "id": "af7b203b",
   "metadata": {},
   "outputs": [
    {
     "name": "stdout",
     "output_type": "stream",
     "text": [
      "./data\\rental_report_Q1-2016.pdf\n",
      "./data\\rental_report_Q1-2017.pdf\n",
      "./data\\rental_report_Q1-2018.pdf\n",
      "./data\\rental_report_Q1-2019.pdf\n",
      "./data\\rental_report_Q1-2020.pdf\n",
      "./data\\rental_report_Q1-2021.pdf\n",
      "./data\\rental_report_Q2-2021.pdf\n",
      "./data\\rental_report_Q3-2021.pdf\n"
     ]
    }
   ],
   "source": [
    "with open(os.devnull, 'w') as devnull:\n",
    "    with contextlib.redirect_stderr(devnull):\n",
    "        cost_list = proc_reports()"
   ]
  },
  {
   "cell_type": "code",
   "execution_count": 7,
   "id": "6bddb18b",
   "metadata": {},
   "outputs": [
    {
     "data": {
      "text/html": [
       "<div>\n",
       "<style scoped>\n",
       "    .dataframe tbody tr th:only-of-type {\n",
       "        vertical-align: middle;\n",
       "    }\n",
       "\n",
       "    .dataframe tbody tr th {\n",
       "        vertical-align: top;\n",
       "    }\n",
       "\n",
       "    .dataframe thead th {\n",
       "        text-align: right;\n",
       "    }\n",
       "</style>\n",
       "<table border=\"1\" class=\"dataframe\">\n",
       "  <thead>\n",
       "    <tr style=\"text-align: right;\">\n",
       "      <th></th>\n",
       "      <th>City</th>\n",
       "      <th>Bachelor</th>\n",
       "      <th>One-Bedroom</th>\n",
       "      <th>Two-Bedroom</th>\n",
       "      <th>Three-Bedroom</th>\n",
       "      <th>year</th>\n",
       "    </tr>\n",
       "  </thead>\n",
       "  <tbody>\n",
       "    <tr>\n",
       "      <th>0</th>\n",
       "      <td>Brampton</td>\n",
       "      <td>-</td>\n",
       "      <td>1365</td>\n",
       "      <td>1505</td>\n",
       "      <td>1575</td>\n",
       "      <td>2016_Q1</td>\n",
       "    </tr>\n",
       "    <tr>\n",
       "      <th>1</th>\n",
       "      <td>City of Toronto</td>\n",
       "      <td>1380</td>\n",
       "      <td>1701</td>\n",
       "      <td>2544</td>\n",
       "      <td>2963</td>\n",
       "      <td>2016_Q1</td>\n",
       "    </tr>\n",
       "  </tbody>\n",
       "</table>\n",
       "</div>"
      ],
      "text/plain": [
       "              City Bachelor One-Bedroom Two-Bedroom Three-Bedroom     year\n",
       "0         Brampton        -        1365        1505          1575  2016_Q1\n",
       "1  City of Toronto     1380        1701        2544          2963  2016_Q1"
      ]
     },
     "metadata": {},
     "output_type": "display_data"
    },
    {
     "data": {
      "text/html": [
       "<div>\n",
       "<style scoped>\n",
       "    .dataframe tbody tr th:only-of-type {\n",
       "        vertical-align: middle;\n",
       "    }\n",
       "\n",
       "    .dataframe tbody tr th {\n",
       "        vertical-align: top;\n",
       "    }\n",
       "\n",
       "    .dataframe thead th {\n",
       "        text-align: right;\n",
       "    }\n",
       "</style>\n",
       "<table border=\"1\" class=\"dataframe\">\n",
       "  <thead>\n",
       "    <tr style=\"text-align: right;\">\n",
       "      <th></th>\n",
       "      <th>City</th>\n",
       "      <th>Bachelor</th>\n",
       "      <th>One-Bedroom</th>\n",
       "      <th>Two-Bedroom</th>\n",
       "      <th>Three-Bedroom</th>\n",
       "      <th>year</th>\n",
       "    </tr>\n",
       "  </thead>\n",
       "  <tbody>\n",
       "    <tr>\n",
       "      <th>0</th>\n",
       "      <td>Brampton</td>\n",
       "      <td>1200</td>\n",
       "      <td>1415</td>\n",
       "      <td>1681</td>\n",
       "      <td>1670</td>\n",
       "      <td>2017_Q1</td>\n",
       "    </tr>\n",
       "    <tr>\n",
       "      <th>1</th>\n",
       "      <td>City of Toronto</td>\n",
       "      <td>1510</td>\n",
       "      <td>1839</td>\n",
       "      <td>2570</td>\n",
       "      <td>3480</td>\n",
       "      <td>2017_Q1</td>\n",
       "    </tr>\n",
       "  </tbody>\n",
       "</table>\n",
       "</div>"
      ],
      "text/plain": [
       "              City Bachelor One-Bedroom Two-Bedroom Three-Bedroom     year\n",
       "0         Brampton     1200        1415        1681          1670  2017_Q1\n",
       "1  City of Toronto     1510        1839        2570          3480  2017_Q1"
      ]
     },
     "metadata": {},
     "output_type": "display_data"
    },
    {
     "data": {
      "text/html": [
       "<div>\n",
       "<style scoped>\n",
       "    .dataframe tbody tr th:only-of-type {\n",
       "        vertical-align: middle;\n",
       "    }\n",
       "\n",
       "    .dataframe tbody tr th {\n",
       "        vertical-align: top;\n",
       "    }\n",
       "\n",
       "    .dataframe thead th {\n",
       "        text-align: right;\n",
       "    }\n",
       "</style>\n",
       "<table border=\"1\" class=\"dataframe\">\n",
       "  <thead>\n",
       "    <tr style=\"text-align: right;\">\n",
       "      <th></th>\n",
       "      <th>City</th>\n",
       "      <th>Bachelor</th>\n",
       "      <th>One-Bedroom</th>\n",
       "      <th>Two-Bedroom</th>\n",
       "      <th>Three-Bedroom</th>\n",
       "      <th>year</th>\n",
       "    </tr>\n",
       "  </thead>\n",
       "  <tbody>\n",
       "    <tr>\n",
       "      <th>0</th>\n",
       "      <td>Brampton</td>\n",
       "      <td>-</td>\n",
       "      <td>1595</td>\n",
       "      <td>1776</td>\n",
       "      <td>1975</td>\n",
       "      <td>2018_Q1</td>\n",
       "    </tr>\n",
       "    <tr>\n",
       "      <th>1</th>\n",
       "      <td>City of Toronto</td>\n",
       "      <td>1662</td>\n",
       "      <td>2055</td>\n",
       "      <td>2836</td>\n",
       "      <td>3597</td>\n",
       "      <td>2018_Q1</td>\n",
       "    </tr>\n",
       "  </tbody>\n",
       "</table>\n",
       "</div>"
      ],
      "text/plain": [
       "              City Bachelor One-Bedroom Two-Bedroom Three-Bedroom     year\n",
       "0         Brampton        -        1595        1776          1975  2018_Q1\n",
       "1  City of Toronto     1662        2055        2836          3597  2018_Q1"
      ]
     },
     "metadata": {},
     "output_type": "display_data"
    },
    {
     "data": {
      "text/html": [
       "<div>\n",
       "<style scoped>\n",
       "    .dataframe tbody tr th:only-of-type {\n",
       "        vertical-align: middle;\n",
       "    }\n",
       "\n",
       "    .dataframe tbody tr th {\n",
       "        vertical-align: top;\n",
       "    }\n",
       "\n",
       "    .dataframe thead th {\n",
       "        text-align: right;\n",
       "    }\n",
       "</style>\n",
       "<table border=\"1\" class=\"dataframe\">\n",
       "  <thead>\n",
       "    <tr style=\"text-align: right;\">\n",
       "      <th></th>\n",
       "      <th>City</th>\n",
       "      <th>Bachelor</th>\n",
       "      <th>One-Bedroom</th>\n",
       "      <th>Two-Bedroom</th>\n",
       "      <th>Three-Bedroom</th>\n",
       "      <th>year</th>\n",
       "    </tr>\n",
       "  </thead>\n",
       "  <tbody>\n",
       "    <tr>\n",
       "      <th>0</th>\n",
       "      <td>Brampton</td>\n",
       "      <td>1400</td>\n",
       "      <td>1747</td>\n",
       "      <td>2045</td>\n",
       "      <td>2175</td>\n",
       "      <td>2019_Q1</td>\n",
       "    </tr>\n",
       "    <tr>\n",
       "      <th>1</th>\n",
       "      <td>City of Toronto</td>\n",
       "      <td>1822</td>\n",
       "      <td>2186</td>\n",
       "      <td>2964</td>\n",
       "      <td>3997</td>\n",
       "      <td>2019_Q1</td>\n",
       "    </tr>\n",
       "  </tbody>\n",
       "</table>\n",
       "</div>"
      ],
      "text/plain": [
       "              City Bachelor One-Bedroom Two-Bedroom Three-Bedroom     year\n",
       "0         Brampton     1400        1747        2045          2175  2019_Q1\n",
       "1  City of Toronto     1822        2186        2964          3997  2019_Q1"
      ]
     },
     "metadata": {},
     "output_type": "display_data"
    },
    {
     "data": {
      "text/html": [
       "<div>\n",
       "<style scoped>\n",
       "    .dataframe tbody tr th:only-of-type {\n",
       "        vertical-align: middle;\n",
       "    }\n",
       "\n",
       "    .dataframe tbody tr th {\n",
       "        vertical-align: top;\n",
       "    }\n",
       "\n",
       "    .dataframe thead th {\n",
       "        text-align: right;\n",
       "    }\n",
       "</style>\n",
       "<table border=\"1\" class=\"dataframe\">\n",
       "  <thead>\n",
       "    <tr style=\"text-align: right;\">\n",
       "      <th></th>\n",
       "      <th>City</th>\n",
       "      <th>Bachelor</th>\n",
       "      <th>One-Bedroom</th>\n",
       "      <th>Two-Bedroom</th>\n",
       "      <th>Three-Bedroom</th>\n",
       "      <th>year</th>\n",
       "    </tr>\n",
       "  </thead>\n",
       "  <tbody>\n",
       "    <tr>\n",
       "      <th>0</th>\n",
       "      <td>Brampton</td>\n",
       "      <td>1650</td>\n",
       "      <td>1900</td>\n",
       "      <td>2225</td>\n",
       "      <td>nan</td>\n",
       "      <td>2020_Q1</td>\n",
       "    </tr>\n",
       "    <tr>\n",
       "      <th>1</th>\n",
       "      <td>City of Toronto</td>\n",
       "      <td>1851</td>\n",
       "      <td>2222</td>\n",
       "      <td>2943</td>\n",
       "      <td>nan</td>\n",
       "      <td>2020_Q1</td>\n",
       "    </tr>\n",
       "  </tbody>\n",
       "</table>\n",
       "</div>"
      ],
      "text/plain": [
       "              City Bachelor One-Bedroom Two-Bedroom Three-Bedroom     year\n",
       "0         Brampton     1650        1900        2225           nan  2020_Q1\n",
       "1  City of Toronto     1851        2222        2943           nan  2020_Q1"
      ]
     },
     "metadata": {},
     "output_type": "display_data"
    },
    {
     "data": {
      "text/html": [
       "<div>\n",
       "<style scoped>\n",
       "    .dataframe tbody tr th:only-of-type {\n",
       "        vertical-align: middle;\n",
       "    }\n",
       "\n",
       "    .dataframe tbody tr th {\n",
       "        vertical-align: top;\n",
       "    }\n",
       "\n",
       "    .dataframe thead th {\n",
       "        text-align: right;\n",
       "    }\n",
       "</style>\n",
       "<table border=\"1\" class=\"dataframe\">\n",
       "  <thead>\n",
       "    <tr style=\"text-align: right;\">\n",
       "      <th></th>\n",
       "      <th>City</th>\n",
       "      <th>Bachelor</th>\n",
       "      <th>One-Bedroom</th>\n",
       "      <th>Two-Bedroom</th>\n",
       "      <th>Three-Bedroom</th>\n",
       "      <th>year</th>\n",
       "    </tr>\n",
       "  </thead>\n",
       "  <tbody>\n",
       "    <tr>\n",
       "      <th>0</th>\n",
       "      <td>Brampton</td>\n",
       "      <td>-</td>\n",
       "      <td>1796</td>\n",
       "      <td>2162</td>\n",
       "      <td>2360</td>\n",
       "      <td>2021_Q1</td>\n",
       "    </tr>\n",
       "    <tr>\n",
       "      <th>1</th>\n",
       "      <td>City of Toronto</td>\n",
       "      <td>1403</td>\n",
       "      <td>1819</td>\n",
       "      <td>2504</td>\n",
       "      <td>3286</td>\n",
       "      <td>2021_Q1</td>\n",
       "    </tr>\n",
       "  </tbody>\n",
       "</table>\n",
       "</div>"
      ],
      "text/plain": [
       "              City Bachelor One-Bedroom Two-Bedroom Three-Bedroom     year\n",
       "0         Brampton        -        1796        2162          2360  2021_Q1\n",
       "1  City of Toronto     1403        1819        2504          3286  2021_Q1"
      ]
     },
     "metadata": {},
     "output_type": "display_data"
    },
    {
     "data": {
      "text/html": [
       "<div>\n",
       "<style scoped>\n",
       "    .dataframe tbody tr th:only-of-type {\n",
       "        vertical-align: middle;\n",
       "    }\n",
       "\n",
       "    .dataframe tbody tr th {\n",
       "        vertical-align: top;\n",
       "    }\n",
       "\n",
       "    .dataframe thead th {\n",
       "        text-align: right;\n",
       "    }\n",
       "</style>\n",
       "<table border=\"1\" class=\"dataframe\">\n",
       "  <thead>\n",
       "    <tr style=\"text-align: right;\">\n",
       "      <th></th>\n",
       "      <th>City</th>\n",
       "      <th>Bachelor</th>\n",
       "      <th>One-Bedroom</th>\n",
       "      <th>Two-Bedroom</th>\n",
       "      <th>Three-Bedroom</th>\n",
       "      <th>year</th>\n",
       "    </tr>\n",
       "  </thead>\n",
       "  <tbody>\n",
       "    <tr>\n",
       "      <th>0</th>\n",
       "      <td>Brampton</td>\n",
       "      <td>1349</td>\n",
       "      <td>1834</td>\n",
       "      <td>2159</td>\n",
       "      <td>2383</td>\n",
       "      <td>2021_Q2</td>\n",
       "    </tr>\n",
       "    <tr>\n",
       "      <th>1</th>\n",
       "      <td>City of Toronto</td>\n",
       "      <td>1464</td>\n",
       "      <td>1887</td>\n",
       "      <td>2637</td>\n",
       "      <td>3454</td>\n",
       "      <td>2021_Q2</td>\n",
       "    </tr>\n",
       "  </tbody>\n",
       "</table>\n",
       "</div>"
      ],
      "text/plain": [
       "              City Bachelor One-Bedroom Two-Bedroom Three-Bedroom     year\n",
       "0         Brampton     1349        1834        2159          2383  2021_Q2\n",
       "1  City of Toronto     1464        1887        2637          3454  2021_Q2"
      ]
     },
     "metadata": {},
     "output_type": "display_data"
    },
    {
     "data": {
      "text/html": [
       "<div>\n",
       "<style scoped>\n",
       "    .dataframe tbody tr th:only-of-type {\n",
       "        vertical-align: middle;\n",
       "    }\n",
       "\n",
       "    .dataframe tbody tr th {\n",
       "        vertical-align: top;\n",
       "    }\n",
       "\n",
       "    .dataframe thead th {\n",
       "        text-align: right;\n",
       "    }\n",
       "</style>\n",
       "<table border=\"1\" class=\"dataframe\">\n",
       "  <thead>\n",
       "    <tr style=\"text-align: right;\">\n",
       "      <th></th>\n",
       "      <th>City</th>\n",
       "      <th>Bachelor</th>\n",
       "      <th>One-Bedroom</th>\n",
       "      <th>Two-Bedroom</th>\n",
       "      <th>Three-Bedroom</th>\n",
       "      <th>year</th>\n",
       "    </tr>\n",
       "  </thead>\n",
       "  <tbody>\n",
       "    <tr>\n",
       "      <th>0</th>\n",
       "      <td>Brampton</td>\n",
       "      <td>1400</td>\n",
       "      <td>1857</td>\n",
       "      <td>2190</td>\n",
       "      <td>2633</td>\n",
       "      <td>2021_Q3</td>\n",
       "    </tr>\n",
       "    <tr>\n",
       "      <th>1</th>\n",
       "      <td>City of Toronto</td>\n",
       "      <td>1707</td>\n",
       "      <td>2082</td>\n",
       "      <td>2885</td>\n",
       "      <td>3818</td>\n",
       "      <td>2021_Q3</td>\n",
       "    </tr>\n",
       "  </tbody>\n",
       "</table>\n",
       "</div>"
      ],
      "text/plain": [
       "              City Bachelor One-Bedroom Two-Bedroom Three-Bedroom     year\n",
       "0         Brampton     1400        1857        2190          2633  2021_Q3\n",
       "1  City of Toronto     1707        2082        2885          3818  2021_Q3"
      ]
     },
     "metadata": {},
     "output_type": "display_data"
    }
   ],
   "source": [
    "for i in cost_list:\n",
    "    display(i)"
   ]
  },
  {
   "cell_type": "code",
   "execution_count": 8,
   "id": "29d0161f",
   "metadata": {},
   "outputs": [
    {
     "data": {
      "text/plain": [
       "['rep_0', 'rep_1', 'rep_2', 'rep_3', 'rep_4', 'rep_5', 'rep_6', 'rep_7']"
      ]
     },
     "execution_count": 8,
     "metadata": {},
     "output_type": "execute_result"
    }
   ],
   "source": [
    "names = [f\"rep_{i}\" for i in range(len(cost_list))]\n",
    "names"
   ]
  },
  {
   "cell_type": "code",
   "execution_count": 9,
   "id": "a5cb4fe2",
   "metadata": {},
   "outputs": [
    {
     "data": {
      "text/html": [
       "<div>\n",
       "<style scoped>\n",
       "    .dataframe tbody tr th:only-of-type {\n",
       "        vertical-align: middle;\n",
       "    }\n",
       "\n",
       "    .dataframe tbody tr th {\n",
       "        vertical-align: top;\n",
       "    }\n",
       "\n",
       "    .dataframe thead th {\n",
       "        text-align: right;\n",
       "    }\n",
       "</style>\n",
       "<table border=\"1\" class=\"dataframe\">\n",
       "  <thead>\n",
       "    <tr style=\"text-align: right;\">\n",
       "      <th></th>\n",
       "      <th>City</th>\n",
       "      <th>Bachelor</th>\n",
       "      <th>One-Bedroom</th>\n",
       "      <th>Two-Bedroom</th>\n",
       "      <th>Three-Bedroom</th>\n",
       "      <th>year</th>\n",
       "    </tr>\n",
       "  </thead>\n",
       "  <tbody>\n",
       "    <tr>\n",
       "      <th>0</th>\n",
       "      <td>Brampton</td>\n",
       "      <td>NaN</td>\n",
       "      <td>1365.0</td>\n",
       "      <td>1505.0</td>\n",
       "      <td>1575.0</td>\n",
       "      <td>2016_Q1</td>\n",
       "    </tr>\n",
       "    <tr>\n",
       "      <th>1</th>\n",
       "      <td>City of Toronto</td>\n",
       "      <td>1380.0</td>\n",
       "      <td>1701.0</td>\n",
       "      <td>2544.0</td>\n",
       "      <td>2963.0</td>\n",
       "      <td>2016_Q1</td>\n",
       "    </tr>\n",
       "    <tr>\n",
       "      <th>0</th>\n",
       "      <td>Brampton</td>\n",
       "      <td>1200.0</td>\n",
       "      <td>1415.0</td>\n",
       "      <td>1681.0</td>\n",
       "      <td>1670.0</td>\n",
       "      <td>2017_Q1</td>\n",
       "    </tr>\n",
       "    <tr>\n",
       "      <th>1</th>\n",
       "      <td>City of Toronto</td>\n",
       "      <td>1510.0</td>\n",
       "      <td>1839.0</td>\n",
       "      <td>2570.0</td>\n",
       "      <td>3480.0</td>\n",
       "      <td>2017_Q1</td>\n",
       "    </tr>\n",
       "    <tr>\n",
       "      <th>0</th>\n",
       "      <td>Brampton</td>\n",
       "      <td>NaN</td>\n",
       "      <td>1595.0</td>\n",
       "      <td>1776.0</td>\n",
       "      <td>1975.0</td>\n",
       "      <td>2018_Q1</td>\n",
       "    </tr>\n",
       "    <tr>\n",
       "      <th>1</th>\n",
       "      <td>City of Toronto</td>\n",
       "      <td>1662.0</td>\n",
       "      <td>2055.0</td>\n",
       "      <td>2836.0</td>\n",
       "      <td>3597.0</td>\n",
       "      <td>2018_Q1</td>\n",
       "    </tr>\n",
       "    <tr>\n",
       "      <th>0</th>\n",
       "      <td>Brampton</td>\n",
       "      <td>1400.0</td>\n",
       "      <td>1747.0</td>\n",
       "      <td>2045.0</td>\n",
       "      <td>2175.0</td>\n",
       "      <td>2019_Q1</td>\n",
       "    </tr>\n",
       "    <tr>\n",
       "      <th>1</th>\n",
       "      <td>City of Toronto</td>\n",
       "      <td>1822.0</td>\n",
       "      <td>2186.0</td>\n",
       "      <td>2964.0</td>\n",
       "      <td>3997.0</td>\n",
       "      <td>2019_Q1</td>\n",
       "    </tr>\n",
       "    <tr>\n",
       "      <th>0</th>\n",
       "      <td>Brampton</td>\n",
       "      <td>1650.0</td>\n",
       "      <td>1900.0</td>\n",
       "      <td>2225.0</td>\n",
       "      <td>NaN</td>\n",
       "      <td>2020_Q1</td>\n",
       "    </tr>\n",
       "    <tr>\n",
       "      <th>1</th>\n",
       "      <td>City of Toronto</td>\n",
       "      <td>1851.0</td>\n",
       "      <td>2222.0</td>\n",
       "      <td>2943.0</td>\n",
       "      <td>NaN</td>\n",
       "      <td>2020_Q1</td>\n",
       "    </tr>\n",
       "    <tr>\n",
       "      <th>0</th>\n",
       "      <td>Brampton</td>\n",
       "      <td>NaN</td>\n",
       "      <td>1796.0</td>\n",
       "      <td>2162.0</td>\n",
       "      <td>2360.0</td>\n",
       "      <td>2021_Q1</td>\n",
       "    </tr>\n",
       "    <tr>\n",
       "      <th>1</th>\n",
       "      <td>City of Toronto</td>\n",
       "      <td>1403.0</td>\n",
       "      <td>1819.0</td>\n",
       "      <td>2504.0</td>\n",
       "      <td>3286.0</td>\n",
       "      <td>2021_Q1</td>\n",
       "    </tr>\n",
       "    <tr>\n",
       "      <th>0</th>\n",
       "      <td>Brampton</td>\n",
       "      <td>1349.0</td>\n",
       "      <td>1834.0</td>\n",
       "      <td>2159.0</td>\n",
       "      <td>2383.0</td>\n",
       "      <td>2021_Q2</td>\n",
       "    </tr>\n",
       "    <tr>\n",
       "      <th>1</th>\n",
       "      <td>City of Toronto</td>\n",
       "      <td>1464.0</td>\n",
       "      <td>1887.0</td>\n",
       "      <td>2637.0</td>\n",
       "      <td>3454.0</td>\n",
       "      <td>2021_Q2</td>\n",
       "    </tr>\n",
       "    <tr>\n",
       "      <th>0</th>\n",
       "      <td>Brampton</td>\n",
       "      <td>1400.0</td>\n",
       "      <td>1857.0</td>\n",
       "      <td>2190.0</td>\n",
       "      <td>2633.0</td>\n",
       "      <td>2021_Q3</td>\n",
       "    </tr>\n",
       "    <tr>\n",
       "      <th>1</th>\n",
       "      <td>City of Toronto</td>\n",
       "      <td>1707.0</td>\n",
       "      <td>2082.0</td>\n",
       "      <td>2885.0</td>\n",
       "      <td>3818.0</td>\n",
       "      <td>2021_Q3</td>\n",
       "    </tr>\n",
       "  </tbody>\n",
       "</table>\n",
       "</div>"
      ],
      "text/plain": [
       "              City  Bachelor  One-Bedroom  Two-Bedroom  Three-Bedroom     year\n",
       "0         Brampton       NaN       1365.0       1505.0         1575.0  2016_Q1\n",
       "1  City of Toronto    1380.0       1701.0       2544.0         2963.0  2016_Q1\n",
       "0         Brampton    1200.0       1415.0       1681.0         1670.0  2017_Q1\n",
       "1  City of Toronto    1510.0       1839.0       2570.0         3480.0  2017_Q1\n",
       "0         Brampton       NaN       1595.0       1776.0         1975.0  2018_Q1\n",
       "1  City of Toronto    1662.0       2055.0       2836.0         3597.0  2018_Q1\n",
       "0         Brampton    1400.0       1747.0       2045.0         2175.0  2019_Q1\n",
       "1  City of Toronto    1822.0       2186.0       2964.0         3997.0  2019_Q1\n",
       "0         Brampton    1650.0       1900.0       2225.0            NaN  2020_Q1\n",
       "1  City of Toronto    1851.0       2222.0       2943.0            NaN  2020_Q1\n",
       "0         Brampton       NaN       1796.0       2162.0         2360.0  2021_Q1\n",
       "1  City of Toronto    1403.0       1819.0       2504.0         3286.0  2021_Q1\n",
       "0         Brampton    1349.0       1834.0       2159.0         2383.0  2021_Q2\n",
       "1  City of Toronto    1464.0       1887.0       2637.0         3454.0  2021_Q2\n",
       "0         Brampton    1400.0       1857.0       2190.0         2633.0  2021_Q3\n",
       "1  City of Toronto    1707.0       2082.0       2885.0         3818.0  2021_Q3"
      ]
     },
     "execution_count": 9,
     "metadata": {},
     "output_type": "execute_result"
    }
   ],
   "source": [
    "# df = pd.concat(cost_list).set_index(['year'])\n",
    "df = pd.concat(cost_list)\n",
    "\n",
    "df = df.replace('-', np.nan)\n",
    "\n",
    "for l in ['Bachelor','One-Bedroom','Two-Bedroom','Three-Bedroom']:\n",
    "    df[l] = df[l].astype(float)\n",
    "\n",
    "df"
   ]
  },
  {
   "cell_type": "code",
   "execution_count": 10,
   "id": "1fc442a2",
   "metadata": {},
   "outputs": [],
   "source": [
    "types_list = ['Bachelor', 'One-Bedroom', 'Two-Bedroom', 'Three-Bedroom']\n",
    "\n",
    "df_stacked_list = []\n",
    "\n",
    "for typ in types_list:\n",
    "    df1 = df[['City', 'year', typ]].copy()\n",
    "    df1['apt_type'] = typ\n",
    "    df1.rename({typ: 'price'}, axis=1, inplace=True)\n",
    "    df_stacked_list.append(df1)"
   ]
  },
  {
   "cell_type": "code",
   "execution_count": 11,
   "id": "e4cebd55",
   "metadata": {},
   "outputs": [
    {
     "data": {
      "text/html": [
       "<div>\n",
       "<style scoped>\n",
       "    .dataframe tbody tr th:only-of-type {\n",
       "        vertical-align: middle;\n",
       "    }\n",
       "\n",
       "    .dataframe tbody tr th {\n",
       "        vertical-align: top;\n",
       "    }\n",
       "\n",
       "    .dataframe thead th {\n",
       "        text-align: right;\n",
       "    }\n",
       "</style>\n",
       "<table border=\"1\" class=\"dataframe\">\n",
       "  <thead>\n",
       "    <tr style=\"text-align: right;\">\n",
       "      <th></th>\n",
       "      <th>City</th>\n",
       "      <th>year</th>\n",
       "      <th>price</th>\n",
       "      <th>apt_type</th>\n",
       "    </tr>\n",
       "  </thead>\n",
       "  <tbody>\n",
       "    <tr>\n",
       "      <th>0</th>\n",
       "      <td>Brampton</td>\n",
       "      <td>2016_Q1</td>\n",
       "      <td>NaN</td>\n",
       "      <td>Bachelor</td>\n",
       "    </tr>\n",
       "    <tr>\n",
       "      <th>1</th>\n",
       "      <td>City of Toronto</td>\n",
       "      <td>2016_Q1</td>\n",
       "      <td>1380.0</td>\n",
       "      <td>Bachelor</td>\n",
       "    </tr>\n",
       "    <tr>\n",
       "      <th>0</th>\n",
       "      <td>Brampton</td>\n",
       "      <td>2017_Q1</td>\n",
       "      <td>1200.0</td>\n",
       "      <td>Bachelor</td>\n",
       "    </tr>\n",
       "    <tr>\n",
       "      <th>1</th>\n",
       "      <td>City of Toronto</td>\n",
       "      <td>2017_Q1</td>\n",
       "      <td>1510.0</td>\n",
       "      <td>Bachelor</td>\n",
       "    </tr>\n",
       "    <tr>\n",
       "      <th>0</th>\n",
       "      <td>Brampton</td>\n",
       "      <td>2018_Q1</td>\n",
       "      <td>NaN</td>\n",
       "      <td>Bachelor</td>\n",
       "    </tr>\n",
       "  </tbody>\n",
       "</table>\n",
       "</div>"
      ],
      "text/plain": [
       "              City     year   price  apt_type\n",
       "0         Brampton  2016_Q1     NaN  Bachelor\n",
       "1  City of Toronto  2016_Q1  1380.0  Bachelor\n",
       "0         Brampton  2017_Q1  1200.0  Bachelor\n",
       "1  City of Toronto  2017_Q1  1510.0  Bachelor\n",
       "0         Brampton  2018_Q1     NaN  Bachelor"
      ]
     },
     "execution_count": 11,
     "metadata": {},
     "output_type": "execute_result"
    }
   ],
   "source": [
    "df2 = pd.concat(df_stacked_list)\n",
    "df2.head()"
   ]
  },
  {
   "cell_type": "code",
   "execution_count": 12,
   "id": "0a7e792b",
   "metadata": {},
   "outputs": [
    {
     "data": {
      "text/plain": [
       "<seaborn.axisgrid.FacetGrid at 0x196832ddb50>"
      ]
     },
     "execution_count": 12,
     "metadata": {},
     "output_type": "execute_result"
    },
    {
     "data": {
      "image/png": "[encoded data removed]",
      "text/plain": [
       "<Figure size 1550.6x360 with 4 Axes>"
      ]
     },
     "metadata": {},
     "output_type": "display_data"
    }
   ],
   "source": [
    "sns.set_theme()\n",
    "\n",
    "# Create a visualization\n",
    "sns.relplot(\n",
    "    data=df2,\n",
    "    x=\"year\", y=\"price\", col=\"apt_type\",\n",
    "    hue=\"City\", style=\"City\"\n",
    ")"
   ]
  },
  {
   "cell_type": "markdown",
   "id": "cb312b29",
   "metadata": {},
   "source": [
    "# Visualize Rent"
   ]
  },
  {
   "cell_type": "code",
   "execution_count": 60,
   "id": "f43dbea8",
   "metadata": {
    "scrolled": false
   },
   "outputs": [
    {
     "data": {
      "application/vnd.plotly.v1+json": {
       "config": {
        "plotlyServerURL": "https://plot.ly"
       },
       "data": [
        {
         "hovertemplate": "City=Brampton<br>apt_type=Bachelor<br>year=%{x}<br>price=%{text}<extra></extra>",
         "legendgroup": "Brampton",
         "line": {
          "color": "#636efa",
          "dash": "solid"
         },
         "mode": "lines+markers+text",
         "name": "Brampton",
         "orientation": "v",
         "showlegend": true,
         "text": [
          null,
          1200,
          null,
          1400,
          1650,
          null,
          1349,
          1400
         ],
         "textposition": "bottom right",
         "type": "scatter",
         "x": [
          "2016_Q1",
          "2017_Q1",
          "2018_Q1",
          "2019_Q1",
          "2020_Q1",
          "2021_Q1",
          "2021_Q2",
          "2021_Q3"
         ],
         "xaxis": "x",
         "y": [
          null,
          1200,
          null,
          1400,
          1650,
          null,
          1349,
          1400
         ],
         "yaxis": "y"
        },
        {
         "hovertemplate": "City=Brampton<br>apt_type=One-Bedroom<br>year=%{x}<br>price=%{text}<extra></extra>",
         "legendgroup": "Brampton",
         "line": {
          "color": "#636efa",
          "dash": "solid"
         },
         "mode": "lines+markers+text",
         "name": "Brampton",
         "orientation": "v",
         "showlegend": false,
         "text": [
          1365,
          1415,
          1595,
          1747,
          1900,
          1796,
          1834,
          1857
         ],
         "textposition": "bottom right",
         "type": "scatter",
         "x": [
          "2016_Q1",
          "2017_Q1",
          "2018_Q1",
          "2019_Q1",
          "2020_Q1",
          "2021_Q1",
          "2021_Q2",
          "2021_Q3"
         ],
         "xaxis": "x2",
         "y": [
          1365,
          1415,
          1595,
          1747,
          1900,
          1796,
          1834,
          1857
         ],
         "yaxis": "y2"
        },
        {
         "hovertemplate": "City=Brampton<br>apt_type=Two-Bedroom<br>year=%{x}<br>price=%{text}<extra></extra>",
         "legendgroup": "Brampton",
         "line": {
          "color": "#636efa",
          "dash": "solid"
         },
         "mode": "lines+markers+text",
         "name": "Brampton",
         "orientation": "v",
         "showlegend": false,
         "text": [
          1505,
          1681,
          1776,
          2045,
          2225,
          2162,
          2159,
          2190
         ],
         "textposition": "bottom right",
         "type": "scatter",
         "x": [
          "2016_Q1",
          "2017_Q1",
          "2018_Q1",
          "2019_Q1",
          "2020_Q1",
          "2021_Q1",
          "2021_Q2",
          "2021_Q3"
         ],
         "xaxis": "x3",
         "y": [
          1505,
          1681,
          1776,
          2045,
          2225,
          2162,
          2159,
          2190
         ],
         "yaxis": "y3"
        },
        {
         "hovertemplate": "City=Brampton<br>apt_type=Three-Bedroom<br>year=%{x}<br>price=%{text}<extra></extra>",
         "legendgroup": "Brampton",
         "line": {
          "color": "#636efa",
          "dash": "solid"
         },
         "mode": "lines+markers+text",
         "name": "Brampton",
         "orientation": "v",
         "showlegend": false,
         "text": [
          1575,
          1670,
          1975,
          2175,
          null,
          2360,
          2383,
          2633
         ],
         "textposition": "bottom right",
         "type": "scatter",
         "x": [
          "2016_Q1",
          "2017_Q1",
          "2018_Q1",
          "2019_Q1",
          "2020_Q1",
          "2021_Q1",
          "2021_Q2",
          "2021_Q3"
         ],
         "xaxis": "x4",
         "y": [
          1575,
          1670,
          1975,
          2175,
          null,
          2360,
          2383,
          2633
         ],
         "yaxis": "y4"
        },
        {
         "hovertemplate": "City=City of Toronto<br>apt_type=Bachelor<br>year=%{x}<br>price=%{text}<extra></extra>",
         "legendgroup": "City of Toronto",
         "line": {
          "color": "#EF553B",
          "dash": "solid"
         },
         "mode": "lines+markers+text",
         "name": "City of Toronto",
         "orientation": "v",
         "showlegend": true,
         "text": [
          1380,
          1510,
          1662,
          1822,
          1851,
          1403,
          1464,
          1707
         ],
         "textposition": "bottom right",
         "type": "scatter",
         "x": [
          "2016_Q1",
          "2017_Q1",
          "2018_Q1",
          "2019_Q1",
          "2020_Q1",
          "2021_Q1",
          "2021_Q2",
          "2021_Q3"
         ],
         "xaxis": "x",
         "y": [
          1380,
          1510,
          1662,
          1822,
          1851,
          1403,
          1464,
          1707
         ],
         "yaxis": "y"
        },
        {
         "hovertemplate": "City=City of Toronto<br>apt_type=One-Bedroom<br>year=%{x}<br>price=%{text}<extra></extra>",
         "legendgroup": "City of Toronto",
         "line": {
          "color": "#EF553B",
          "dash": "solid"
         },
         "mode": "lines+markers+text",
         "name": "City of Toronto",
         "orientation": "v",
         "showlegend": false,
         "text": [
          1701,
          1839,
          2055,
          2186,
          2222,
          1819,
          1887,
          2082
         ],
         "textposition": "bottom right",
         "type": "scatter",
         "x": [
          "2016_Q1",
          "2017_Q1",
          "2018_Q1",
          "2019_Q1",
          "2020_Q1",
          "2021_Q1",
          "2021_Q2",
          "2021_Q3"
         ],
         "xaxis": "x2",
         "y": [
          1701,
          1839,
          2055,
          2186,
          2222,
          1819,
          1887,
          2082
         ],
         "yaxis": "y2"
        },
        {
         "hovertemplate": "City=City of Toronto<br>apt_type=Two-Bedroom<br>year=%{x}<br>price=%{text}<extra></extra>",
         "legendgroup": "City of Toronto",
         "line": {
          "color": "#EF553B",
          "dash": "solid"
         },
         "mode": "lines+markers+text",
         "name": "City of Toronto",
         "orientation": "v",
         "showlegend": false,
         "text": [
          2544,
          2570,
          2836,
          2964,
          2943,
          2504,
          2637,
          2885
         ],
         "textposition": "bottom right",
         "type": "scatter",
         "x": [
          "2016_Q1",
          "2017_Q1",
          "2018_Q1",
          "2019_Q1",
          "2020_Q1",
          "2021_Q1",
          "2021_Q2",
          "2021_Q3"
         ],
         "xaxis": "x3",
         "y": [
          2544,
          2570,
          2836,
          2964,
          2943,
          2504,
          2637,
          2885
         ],
         "yaxis": "y3"
        },
        {
         "hovertemplate": "City=City of Toronto<br>apt_type=Three-Bedroom<br>year=%{x}<br>price=%{text}<extra></extra>",
         "legendgroup": "City of Toronto",
         "line": {
          "color": "#EF553B",
          "dash": "solid"
         },
         "mode": "lines+markers+text",
         "name": "City of Toronto",
         "orientation": "v",
         "showlegend": false,
         "text": [
          2963,
          3480,
          3597,
          3997,
          null,
          3286,
          3454,
          3818
         ],
         "textposition": "bottom right",
         "type": "scatter",
         "x": [
          "2016_Q1",
          "2017_Q1",
          "2018_Q1",
          "2019_Q1",
          "2020_Q1",
          "2021_Q1",
          "2021_Q2",
          "2021_Q3"
         ],
         "xaxis": "x4",
         "y": [
          2963,
          3480,
          3597,
          3997,
          null,
          3286,
          3454,
          3818
         ],
         "yaxis": "y4"
        }
       ],
       "layout": {
        "annotations": [
         {
          "font": {
           "size": 16
          },
          "showarrow": false,
          "text": "Bachelor",
          "x": 0.1175,
          "xanchor": "center",
          "xref": "paper",
          "y": 1,
          "yanchor": "bottom",
          "yref": "paper"
         },
         {
          "font": {
           "size": 16
          },
          "showarrow": false,
          "text": "One-Bedroom",
          "x": 0.3725,
          "xanchor": "center",
          "xref": "paper",
          "y": 1,
          "yanchor": "bottom",
          "yref": "paper"
         },
         {
          "font": {
           "size": 16
          },
          "showarrow": false,
          "text": "Two-Bedroom",
          "x": 0.6275,
          "xanchor": "center",
          "xref": "paper",
          "y": 1,
          "yanchor": "bottom",
          "yref": "paper"
         },
         {
          "font": {
           "size": 16
          },
          "showarrow": false,
          "text": "Three-Bedroom",
          "x": 0.8824999999999998,
          "xanchor": "center",
          "xref": "paper",
          "y": 1,
          "yanchor": "bottom",
          "yref": "paper"
         }
        ],
        "autosize": false,
        "height": 700,
        "legend": {
         "title": {
          "text": "City"
         },
         "tracegroupgap": 0
        },
        "margin": {
         "t": 60
        },
        "template": {
         "data": {
          "bar": [
           {
            "error_x": {
             "color": "#2a3f5f"
            },
            "error_y": {
             "color": "#2a3f5f"
            },
            "marker": {
             "line": {
              "color": "#E5ECF6",
              "width": 0.5
             }
            },
            "type": "bar"
           }
          ],
          "barpolar": [
           {
            "marker": {
             "line": {
              "color": "#E5ECF6",
              "width": 0.5
             }
            },
            "type": "barpolar"
           }
          ],
          "carpet": [
           {
            "aaxis": {
             "endlinecolor": "#2a3f5f",
             "gridcolor": "white",
             "linecolor": "white",
             "minorgridcolor": "white",
             "startlinecolor": "#2a3f5f"
            },
            "baxis": {
             "endlinecolor": "#2a3f5f",
             "gridcolor": "white",
             "linecolor": "white",
             "minorgridcolor": "white",
             "startlinecolor": "#2a3f5f"
            },
            "type": "carpet"
           }
          ],
          "choropleth": [
           {
            "colorbar": {
             "outlinewidth": 0,
             "ticks": ""
            },
            "type": "choropleth"
           }
          ],
          "contour": [
           {
            "colorbar": {
             "outlinewidth": 0,
             "ticks": ""
            },
            "colorscale": [
             [
              0,
              "#0d0887"
             ],
             [
              0.1111111111111111,
              "#46039f"
             ],
             [
              0.2222222222222222,
              "#7201a8"
             ],
             [
              0.3333333333333333,
              "#9c179e"
             ],
             [
              0.4444444444444444,
              "#bd3786"
             ],
             [
              0.5555555555555556,
              "#d8576b"
             ],
             [
              0.6666666666666666,
              "#ed7953"
             ],
             [
              0.7777777777777778,
              "#fb9f3a"
             ],
             [
              0.8888888888888888,
              "#fdca26"
             ],
             [
              1,
              "#f0f921"
             ]
            ],
            "type": "contour"
           }
          ],
          "contourcarpet": [
           {
            "colorbar": {
             "outlinewidth": 0,
             "ticks": ""
            },
            "type": "contourcarpet"
           }
          ],
          "heatmap": [
           {
            "colorbar": {
             "outlinewidth": 0,
             "ticks": ""
            },
            "colorscale": [
             [
              0,
              "#0d0887"
             ],
             [
              0.1111111111111111,
              "#46039f"
             ],
             [
              0.2222222222222222,
              "#7201a8"
             ],
             [
              0.3333333333333333,
              "#9c179e"
             ],
             [
              0.4444444444444444,
              "#bd3786"
             ],
             [
              0.5555555555555556,
              "#d8576b"
             ],
             [
              0.6666666666666666,
              "#ed7953"
             ],
             [
              0.7777777777777778,
              "#fb9f3a"
             ],
             [
              0.8888888888888888,
              "#fdca26"
             ],
             [
              1,
              "#f0f921"
             ]
            ],
            "type": "heatmap"
           }
          ],
          "heatmapgl": [
           {
            "colorbar": {
             "outlinewidth": 0,
             "ticks": ""
            },
            "colorscale": [
             [
              0,
              "#0d0887"
             ],
             [
              0.1111111111111111,
              "#46039f"
             ],
             [
              0.2222222222222222,
              "#7201a8"
             ],
             [
              0.3333333333333333,
              "#9c179e"
             ],
             [
              0.4444444444444444,
              "#bd3786"
             ],
             [
              0.5555555555555556,
              "#d8576b"
             ],
             [
              0.6666666666666666,
              "#ed7953"
             ],
             [
              0.7777777777777778,
              "#fb9f3a"
             ],
             [
              0.8888888888888888,
              "#fdca26"
             ],
             [
              1,
              "#f0f921"
             ]
            ],
            "type": "heatmapgl"
           }
          ],
          "histogram": [
           {
            "marker": {
             "colorbar": {
              "outlinewidth": 0,
              "ticks": ""
             }
            },
            "type": "histogram"
           }
          ],
          "histogram2d": [
           {
            "colorbar": {
             "outlinewidth": 0,
             "ticks": ""
            },
            "colorscale": [
             [
              0,
              "#0d0887"
             ],
             [
              0.1111111111111111,
              "#46039f"
             ],
             [
              0.2222222222222222,
              "#7201a8"
             ],
             [
              0.3333333333333333,
              "#9c179e"
             ],
             [
              0.4444444444444444,
              "#bd3786"
             ],
             [
              0.5555555555555556,
              "#d8576b"
             ],
             [
              0.6666666666666666,
              "#ed7953"
             ],
             [
              0.7777777777777778,
              "#fb9f3a"
             ],
             [
              0.8888888888888888,
              "#fdca26"
             ],
             [
              1,
              "#f0f921"
             ]
            ],
            "type": "histogram2d"
           }
          ],
          "histogram2dcontour": [
           {
            "colorbar": {
             "outlinewidth": 0,
             "ticks": ""
            },
            "colorscale": [
             [
              0,
              "#0d0887"
             ],
             [
              0.1111111111111111,
              "#46039f"
             ],
             [
              0.2222222222222222,
              "#7201a8"
             ],
             [
              0.3333333333333333,
              "#9c179e"
             ],
             [
              0.4444444444444444,
              "#bd3786"
             ],
             [
              0.5555555555555556,
              "#d8576b"
             ],
             [
              0.6666666666666666,
              "#ed7953"
             ],
             [
              0.7777777777777778,
              "#fb9f3a"
             ],
             [
              0.8888888888888888,
              "#fdca26"
             ],
             [
              1,
              "#f0f921"
             ]
            ],
            "type": "histogram2dcontour"
           }
          ],
          "mesh3d": [
           {
            "colorbar": {
             "outlinewidth": 0,
             "ticks": ""
            },
            "type": "mesh3d"
           }
          ],
          "parcoords": [
           {
            "line": {
             "colorbar": {
              "outlinewidth": 0,
              "ticks": ""
             }
            },
            "type": "parcoords"
           }
          ],
          "pie": [
           {
            "automargin": true,
            "type": "pie"
           }
          ],
          "scatter": [
           {
            "marker": {
             "colorbar": {
              "outlinewidth": 0,
              "ticks": ""
             }
            },
            "type": "scatter"
           }
          ],
          "scatter3d": [
           {
            "line": {
             "colorbar": {
              "outlinewidth": 0,
              "ticks": ""
             }
            },
            "marker": {
             "colorbar": {
              "outlinewidth": 0,
              "ticks": ""
             }
            },
            "type": "scatter3d"
           }
          ],
          "scattercarpet": [
           {
            "marker": {
             "colorbar": {
              "outlinewidth": 0,
              "ticks": ""
             }
            },
            "type": "scattercarpet"
           }
          ],
          "scattergeo": [
           {
            "marker": {
             "colorbar": {
              "outlinewidth": 0,
              "ticks": ""
             }
            },
            "type": "scattergeo"
           }
          ],
          "scattergl": [
           {
            "marker": {
             "colorbar": {
              "outlinewidth": 0,
              "ticks": ""
             }
            },
            "type": "scattergl"
           }
          ],
          "scattermapbox": [
           {
            "marker": {
             "colorbar": {
              "outlinewidth": 0,
              "ticks": ""
             }
            },
            "type": "scattermapbox"
           }
          ],
          "scatterpolar": [
           {
            "marker": {
             "colorbar": {
              "outlinewidth": 0,
              "ticks": ""
             }
            },
            "type": "scatterpolar"
           }
          ],
          "scatterpolargl": [
           {
            "marker": {
             "colorbar": {
              "outlinewidth": 0,
              "ticks": ""
             }
            },
            "type": "scatterpolargl"
           }
          ],
          "scatterternary": [
           {
            "marker": {
             "colorbar": {
              "outlinewidth": 0,
              "ticks": ""
             }
            },
            "type": "scatterternary"
           }
          ],
          "surface": [
           {
            "colorbar": {
             "outlinewidth": 0,
             "ticks": ""
            },
            "colorscale": [
             [
              0,
              "#0d0887"
             ],
             [
              0.1111111111111111,
              "#46039f"
             ],
             [
              0.2222222222222222,
              "#7201a8"
             ],
             [
              0.3333333333333333,
              "#9c179e"
             ],
             [
              0.4444444444444444,
              "#bd3786"
             ],
             [
              0.5555555555555556,
              "#d8576b"
             ],
             [
              0.6666666666666666,
              "#ed7953"
             ],
             [
              0.7777777777777778,
              "#fb9f3a"
             ],
             [
              0.8888888888888888,
              "#fdca26"
             ],
             [
              1,
              "#f0f921"
             ]
            ],
            "type": "surface"
           }
          ],
          "table": [
           {
            "cells": {
             "fill": {
              "color": "#EBF0F8"
             },
             "line": {
              "color": "white"
             }
            },
            "header": {
             "fill": {
              "color": "#C8D4E3"
             },
             "line": {
              "color": "white"
             }
            },
            "type": "table"
           }
          ]
         },
         "layout": {
          "annotationdefaults": {
           "arrowcolor": "#2a3f5f",
           "arrowhead": 0,
           "arrowwidth": 1
          },
          "autotypenumbers": "strict",
          "coloraxis": {
           "colorbar": {
            "outlinewidth": 0,
            "ticks": ""
           }
          },
          "colorscale": {
           "diverging": [
            [
             0,
             "#8e0152"
            ],
            [
             0.1,
             "#c51b7d"
            ],
            [
             0.2,
             "#de77ae"
            ],
            [
             0.3,
             "#f1b6da"
            ],
            [
             0.4,
             "#fde0ef"
            ],
            [
             0.5,
             "#f7f7f7"
            ],
            [
             0.6,
             "#e6f5d0"
            ],
            [
             0.7,
             "#b8e186"
            ],
            [
             0.8,
             "#7fbc41"
            ],
            [
             0.9,
             "#4d9221"
            ],
            [
             1,
             "#276419"
            ]
           ],
           "sequential": [
            [
             0,
             "#0d0887"
            ],
            [
             0.1111111111111111,
             "#46039f"
            ],
            [
             0.2222222222222222,
             "#7201a8"
            ],
            [
             0.3333333333333333,
             "#9c179e"
            ],
            [
             0.4444444444444444,
             "#bd3786"
            ],
            [
             0.5555555555555556,
             "#d8576b"
            ],
            [
             0.6666666666666666,
             "#ed7953"
            ],
            [
             0.7777777777777778,
             "#fb9f3a"
            ],
            [
             0.8888888888888888,
             "#fdca26"
            ],
            [
             1,
             "#f0f921"
            ]
           ],
           "sequentialminus": [
            [
             0,
             "#0d0887"
            ],
            [
             0.1111111111111111,
             "#46039f"
            ],
            [
             0.2222222222222222,
             "#7201a8"
            ],
            [
             0.3333333333333333,
             "#9c179e"
            ],
            [
             0.4444444444444444,
             "#bd3786"
            ],
            [
             0.5555555555555556,
             "#d8576b"
            ],
            [
             0.6666666666666666,
             "#ed7953"
            ],
            [
             0.7777777777777778,
             "#fb9f3a"
            ],
            [
             0.8888888888888888,
             "#fdca26"
            ],
            [
             1,
             "#f0f921"
            ]
           ]
          },
          "colorway": [
           "#636efa",
           "#EF553B",
           "#00cc96",
           "#ab63fa",
           "#FFA15A",
           "#19d3f3",
           "#FF6692",
           "#B6E880",
           "#FF97FF",
           "#FECB52"
          ],
          "font": {
           "color": "#2a3f5f"
          },
          "geo": {
           "bgcolor": "white",
           "lakecolor": "white",
           "landcolor": "#E5ECF6",
           "showlakes": true,
           "showland": true,
           "subunitcolor": "white"
          },
          "hoverlabel": {
           "align": "left"
          },
          "hovermode": "closest",
          "mapbox": {
           "style": "light"
          },
          "paper_bgcolor": "white",
          "plot_bgcolor": "#E5ECF6",
          "polar": {
           "angularaxis": {
            "gridcolor": "white",
            "linecolor": "white",
            "ticks": ""
           },
           "bgcolor": "#E5ECF6",
           "radialaxis": {
            "gridcolor": "white",
            "linecolor": "white",
            "ticks": ""
           }
          },
          "scene": {
           "xaxis": {
            "backgroundcolor": "#E5ECF6",
            "gridcolor": "white",
            "gridwidth": 2,
            "linecolor": "white",
            "showbackground": true,
            "ticks": "",
            "zerolinecolor": "white"
           },
           "yaxis": {
            "backgroundcolor": "#E5ECF6",
            "gridcolor": "white",
            "gridwidth": 2,
            "linecolor": "white",
            "showbackground": true,
            "ticks": "",
            "zerolinecolor": "white"
           },
           "zaxis": {
            "backgroundcolor": "#E5ECF6",
            "gridcolor": "white",
            "gridwidth": 2,
            "linecolor": "white",
            "showbackground": true,
            "ticks": "",
            "zerolinecolor": "white"
           }
          },
          "shapedefaults": {
           "line": {
            "color": "#2a3f5f"
           }
          },
          "ternary": {
           "aaxis": {
            "gridcolor": "white",
            "linecolor": "white",
            "ticks": ""
           },
           "baxis": {
            "gridcolor": "white",
            "linecolor": "white",
            "ticks": ""
           },
           "bgcolor": "#E5ECF6",
           "caxis": {
            "gridcolor": "white",
            "linecolor": "white",
            "ticks": ""
           }
          },
          "title": {
           "x": 0.05
          },
          "xaxis": {
           "automargin": true,
           "gridcolor": "white",
           "linecolor": "white",
           "ticks": "",
           "title": {
            "standoff": 15
           },
           "zerolinecolor": "white",
           "zerolinewidth": 2
          },
          "yaxis": {
           "automargin": true,
           "gridcolor": "white",
           "linecolor": "white",
           "ticks": "",
           "title": {
            "standoff": 15
           },
           "zerolinecolor": "white",
           "zerolinewidth": 2
          }
         }
        },
        "width": 1700,
        "xaxis": {
         "anchor": "y",
         "domain": [
          0,
          0.235
         ],
         "title": {
          "text": "year"
         }
        },
        "xaxis2": {
         "anchor": "y2",
         "domain": [
          0.255,
          0.49
         ],
         "matches": "x",
         "title": {
          "text": "year"
         }
        },
        "xaxis3": {
         "anchor": "y3",
         "domain": [
          0.51,
          0.745
         ],
         "matches": "x",
         "title": {
          "text": "year"
         }
        },
        "xaxis4": {
         "anchor": "y4",
         "domain": [
          0.7649999999999999,
          0.9999999999999999
         ],
         "matches": "x",
         "title": {
          "text": "year"
         }
        },
        "yaxis": {
         "anchor": "x",
         "domain": [
          0,
          1
         ],
         "title": {
          "text": "price"
         }
        },
        "yaxis2": {
         "anchor": "x2",
         "domain": [
          0,
          1
         ],
         "matches": "y",
         "showticklabels": false
        },
        "yaxis3": {
         "anchor": "x3",
         "domain": [
          0,
          1
         ],
         "matches": "y",
         "showticklabels": false
        },
        "yaxis4": {
         "anchor": "x4",
         "domain": [
          0,
          1
         ],
         "matches": "y",
         "showticklabels": false
        }
       }
      },
      "text/html": [
       "<div>                            <div id=\"4746f138-5f46-4e02-a386-33677e5c7ce9\" class=\"plotly-graph-div\" style=\"height:700px; width:1700px;\"></div>            <script type=\"text/javascript\">                require([\"plotly\"], function(Plotly) {                    window.PLOTLYENV=window.PLOTLYENV || {};                                    if (document.getElementById(\"4746f138-5f46-4e02-a386-33677e5c7ce9\")) {                    Plotly.newPlot(                        \"4746f138-5f46-4e02-a386-33677e5c7ce9\",                        [{\"hovertemplate\": \"City=Brampton<br>apt_type=Bachelor<br>year=%{x}<br>price=%{text}<extra></extra>\", \"legendgroup\": \"Brampton\", \"line\": {\"color\": \"#636efa\", \"dash\": \"solid\"}, \"mode\": \"lines+markers+text\", \"name\": \"Brampton\", \"orientation\": \"v\", \"showlegend\": true, \"text\": [null, 1200.0, null, 1400.0, 1650.0, null, 1349.0, 1400.0], \"textposition\": \"bottom right\", \"type\": \"scatter\", \"x\": [\"2016_Q1\", \"2017_Q1\", \"2018_Q1\", \"2019_Q1\", \"2020_Q1\", \"2021_Q1\", \"2021_Q2\", \"2021_Q3\"], \"xaxis\": \"x\", \"y\": [null, 1200.0, null, 1400.0, 1650.0, null, 1349.0, 1400.0], \"yaxis\": \"y\"}, {\"hovertemplate\": \"City=Brampton<br>apt_type=One-Bedroom<br>year=%{x}<br>price=%{text}<extra></extra>\", \"legendgroup\": \"Brampton\", \"line\": {\"color\": \"#636efa\", \"dash\": \"solid\"}, \"mode\": \"lines+markers+text\", \"name\": \"Brampton\", \"orientation\": \"v\", \"showlegend\": false, \"text\": [1365.0, 1415.0, 1595.0, 1747.0, 1900.0, 1796.0, 1834.0, 1857.0], \"textposition\": \"bottom right\", \"type\": \"scatter\", \"x\": [\"2016_Q1\", \"2017_Q1\", \"2018_Q1\", \"2019_Q1\", \"2020_Q1\", \"2021_Q1\", \"2021_Q2\", \"2021_Q3\"], \"xaxis\": \"x2\", \"y\": [1365.0, 1415.0, 1595.0, 1747.0, 1900.0, 1796.0, 1834.0, 1857.0], \"yaxis\": \"y2\"}, {\"hovertemplate\": \"City=Brampton<br>apt_type=Two-Bedroom<br>year=%{x}<br>price=%{text}<extra></extra>\", \"legendgroup\": \"Brampton\", \"line\": {\"color\": \"#636efa\", \"dash\": \"solid\"}, \"mode\": \"lines+markers+text\", \"name\": \"Brampton\", \"orientation\": \"v\", \"showlegend\": false, \"text\": [1505.0, 1681.0, 1776.0, 2045.0, 2225.0, 2162.0, 2159.0, 2190.0], \"textposition\": \"bottom right\", \"type\": \"scatter\", \"x\": [\"2016_Q1\", \"2017_Q1\", \"2018_Q1\", \"2019_Q1\", \"2020_Q1\", \"2021_Q1\", \"2021_Q2\", \"2021_Q3\"], \"xaxis\": \"x3\", \"y\": [1505.0, 1681.0, 1776.0, 2045.0, 2225.0, 2162.0, 2159.0, 2190.0], \"yaxis\": \"y3\"}, {\"hovertemplate\": \"City=Brampton<br>apt_type=Three-Bedroom<br>year=%{x}<br>price=%{text}<extra></extra>\", \"legendgroup\": \"Brampton\", \"line\": {\"color\": \"#636efa\", \"dash\": \"solid\"}, \"mode\": \"lines+markers+text\", \"name\": \"Brampton\", \"orientation\": \"v\", \"showlegend\": false, \"text\": [1575.0, 1670.0, 1975.0, 2175.0, null, 2360.0, 2383.0, 2633.0], \"textposition\": \"bottom right\", \"type\": \"scatter\", \"x\": [\"2016_Q1\", \"2017_Q1\", \"2018_Q1\", \"2019_Q1\", \"2020_Q1\", \"2021_Q1\", \"2021_Q2\", \"2021_Q3\"], \"xaxis\": \"x4\", \"y\": [1575.0, 1670.0, 1975.0, 2175.0, null, 2360.0, 2383.0, 2633.0], \"yaxis\": \"y4\"}, {\"hovertemplate\": \"City=City of Toronto<br>apt_type=Bachelor<br>year=%{x}<br>price=%{text}<extra></extra>\", \"legendgroup\": \"City of Toronto\", \"line\": {\"color\": \"#EF553B\", \"dash\": \"solid\"}, \"mode\": \"lines+markers+text\", \"name\": \"City of Toronto\", \"orientation\": \"v\", \"showlegend\": true, \"text\": [1380.0, 1510.0, 1662.0, 1822.0, 1851.0, 1403.0, 1464.0, 1707.0], \"textposition\": \"bottom right\", \"type\": \"scatter\", \"x\": [\"2016_Q1\", \"2017_Q1\", \"2018_Q1\", \"2019_Q1\", \"2020_Q1\", \"2021_Q1\", \"2021_Q2\", \"2021_Q3\"], \"xaxis\": \"x\", \"y\": [1380.0, 1510.0, 1662.0, 1822.0, 1851.0, 1403.0, 1464.0, 1707.0], \"yaxis\": \"y\"}, {\"hovertemplate\": \"City=City of Toronto<br>apt_type=One-Bedroom<br>year=%{x}<br>price=%{text}<extra></extra>\", \"legendgroup\": \"City of Toronto\", \"line\": {\"color\": \"#EF553B\", \"dash\": \"solid\"}, \"mode\": \"lines+markers+text\", \"name\": \"City of Toronto\", \"orientation\": \"v\", \"showlegend\": false, \"text\": [1701.0, 1839.0, 2055.0, 2186.0, 2222.0, 1819.0, 1887.0, 2082.0], \"textposition\": \"bottom right\", \"type\": \"scatter\", \"x\": [\"2016_Q1\", \"2017_Q1\", \"2018_Q1\", \"2019_Q1\", \"2020_Q1\", \"2021_Q1\", \"2021_Q2\", \"2021_Q3\"], \"xaxis\": \"x2\", \"y\": [1701.0, 1839.0, 2055.0, 2186.0, 2222.0, 1819.0, 1887.0, 2082.0], \"yaxis\": \"y2\"}, {\"hovertemplate\": \"City=City of Toronto<br>apt_type=Two-Bedroom<br>year=%{x}<br>price=%{text}<extra></extra>\", \"legendgroup\": \"City of Toronto\", \"line\": {\"color\": \"#EF553B\", \"dash\": \"solid\"}, \"mode\": \"lines+markers+text\", \"name\": \"City of Toronto\", \"orientation\": \"v\", \"showlegend\": false, \"text\": [2544.0, 2570.0, 2836.0, 2964.0, 2943.0, 2504.0, 2637.0, 2885.0], \"textposition\": \"bottom right\", \"type\": \"scatter\", \"x\": [\"2016_Q1\", \"2017_Q1\", \"2018_Q1\", \"2019_Q1\", \"2020_Q1\", \"2021_Q1\", \"2021_Q2\", \"2021_Q3\"], \"xaxis\": \"x3\", \"y\": [2544.0, 2570.0, 2836.0, 2964.0, 2943.0, 2504.0, 2637.0, 2885.0], \"yaxis\": \"y3\"}, {\"hovertemplate\": \"City=City of Toronto<br>apt_type=Three-Bedroom<br>year=%{x}<br>price=%{text}<extra></extra>\", \"legendgroup\": \"City of Toronto\", \"line\": {\"color\": \"#EF553B\", \"dash\": \"solid\"}, \"mode\": \"lines+markers+text\", \"name\": \"City of Toronto\", \"orientation\": \"v\", \"showlegend\": false, \"text\": [2963.0, 3480.0, 3597.0, 3997.0, null, 3286.0, 3454.0, 3818.0], \"textposition\": \"bottom right\", \"type\": \"scatter\", \"x\": [\"2016_Q1\", \"2017_Q1\", \"2018_Q1\", \"2019_Q1\", \"2020_Q1\", \"2021_Q1\", \"2021_Q2\", \"2021_Q3\"], \"xaxis\": \"x4\", \"y\": [2963.0, 3480.0, 3597.0, 3997.0, null, 3286.0, 3454.0, 3818.0], \"yaxis\": \"y4\"}],                        {\"annotations\": [{\"font\": {\"size\": 16}, \"showarrow\": false, \"text\": \"Bachelor\", \"x\": 0.1175, \"xanchor\": \"center\", \"xref\": \"paper\", \"y\": 1.0, \"yanchor\": \"bottom\", \"yref\": \"paper\"}, {\"font\": {\"size\": 16}, \"showarrow\": false, \"text\": \"One-Bedroom\", \"x\": 0.3725, \"xanchor\": \"center\", \"xref\": \"paper\", \"y\": 1.0, \"yanchor\": \"bottom\", \"yref\": \"paper\"}, {\"font\": {\"size\": 16}, \"showarrow\": false, \"text\": \"Two-Bedroom\", \"x\": 0.6275, \"xanchor\": \"center\", \"xref\": \"paper\", \"y\": 1.0, \"yanchor\": \"bottom\", \"yref\": \"paper\"}, {\"font\": {\"size\": 16}, \"showarrow\": false, \"text\": \"Three-Bedroom\", \"x\": 0.8824999999999998, \"xanchor\": \"center\", \"xref\": \"paper\", \"y\": 1.0, \"yanchor\": \"bottom\", \"yref\": \"paper\"}], \"autosize\": false, \"height\": 700, \"legend\": {\"title\": {\"text\": \"City\"}, \"tracegroupgap\": 0}, \"margin\": {\"t\": 60}, \"template\": {\"data\": {\"bar\": [{\"error_x\": {\"color\": \"#2a3f5f\"}, \"error_y\": {\"color\": \"#2a3f5f\"}, \"marker\": {\"line\": {\"color\": \"#E5ECF6\", \"width\": 0.5}}, \"type\": \"bar\"}], \"barpolar\": [{\"marker\": {\"line\": {\"color\": \"#E5ECF6\", \"width\": 0.5}}, \"type\": \"barpolar\"}], \"carpet\": [{\"aaxis\": {\"endlinecolor\": \"#2a3f5f\", \"gridcolor\": \"white\", \"linecolor\": \"white\", \"minorgridcolor\": \"white\", \"startlinecolor\": \"#2a3f5f\"}, \"baxis\": {\"endlinecolor\": \"#2a3f5f\", \"gridcolor\": \"white\", \"linecolor\": \"white\", \"minorgridcolor\": \"white\", \"startlinecolor\": \"#2a3f5f\"}, \"type\": \"carpet\"}], \"choropleth\": [{\"colorbar\": {\"outlinewidth\": 0, \"ticks\": \"\"}, \"type\": \"choropleth\"}], \"contour\": [{\"colorbar\": {\"outlinewidth\": 0, \"ticks\": \"\"}, \"colorscale\": [[0.0, \"#0d0887\"], [0.1111111111111111, \"#46039f\"], [0.2222222222222222, \"#7201a8\"], [0.3333333333333333, \"#9c179e\"], [0.4444444444444444, \"#bd3786\"], [0.5555555555555556, \"#d8576b\"], [0.6666666666666666, \"#ed7953\"], [0.7777777777777778, \"#fb9f3a\"], [0.8888888888888888, \"#fdca26\"], [1.0, \"#f0f921\"]], \"type\": \"contour\"}], \"contourcarpet\": [{\"colorbar\": {\"outlinewidth\": 0, \"ticks\": \"\"}, \"type\": \"contourcarpet\"}], \"heatmap\": [{\"colorbar\": {\"outlinewidth\": 0, \"ticks\": \"\"}, \"colorscale\": [[0.0, \"#0d0887\"], [0.1111111111111111, \"#46039f\"], [0.2222222222222222, \"#7201a8\"], [0.3333333333333333, \"#9c179e\"], [0.4444444444444444, \"#bd3786\"], [0.5555555555555556, \"#d8576b\"], [0.6666666666666666, \"#ed7953\"], [0.7777777777777778, \"#fb9f3a\"], [0.8888888888888888, \"#fdca26\"], [1.0, \"#f0f921\"]], \"type\": \"heatmap\"}], \"heatmapgl\": [{\"colorbar\": {\"outlinewidth\": 0, \"ticks\": \"\"}, \"colorscale\": [[0.0, \"#0d0887\"], [0.1111111111111111, \"#46039f\"], [0.2222222222222222, \"#7201a8\"], [0.3333333333333333, \"#9c179e\"], [0.4444444444444444, \"#bd3786\"], [0.5555555555555556, \"#d8576b\"], [0.6666666666666666, \"#ed7953\"], [0.7777777777777778, \"#fb9f3a\"], [0.8888888888888888, \"#fdca26\"], [1.0, \"#f0f921\"]], \"type\": \"heatmapgl\"}], \"histogram\": [{\"marker\": {\"colorbar\": {\"outlinewidth\": 0, \"ticks\": \"\"}}, \"type\": \"histogram\"}], \"histogram2d\": [{\"colorbar\": {\"outlinewidth\": 0, \"ticks\": \"\"}, \"colorscale\": [[0.0, \"#0d0887\"], [0.1111111111111111, \"#46039f\"], [0.2222222222222222, \"#7201a8\"], [0.3333333333333333, \"#9c179e\"], [0.4444444444444444, \"#bd3786\"], [0.5555555555555556, \"#d8576b\"], [0.6666666666666666, \"#ed7953\"], [0.7777777777777778, \"#fb9f3a\"], [0.8888888888888888, \"#fdca26\"], [1.0, \"#f0f921\"]], \"type\": \"histogram2d\"}], \"histogram2dcontour\": [{\"colorbar\": {\"outlinewidth\": 0, \"ticks\": \"\"}, \"colorscale\": [[0.0, \"#0d0887\"], [0.1111111111111111, \"#46039f\"], [0.2222222222222222, \"#7201a8\"], [0.3333333333333333, \"#9c179e\"], [0.4444444444444444, \"#bd3786\"], [0.5555555555555556, \"#d8576b\"], [0.6666666666666666, \"#ed7953\"], [0.7777777777777778, \"#fb9f3a\"], [0.8888888888888888, \"#fdca26\"], [1.0, \"#f0f921\"]], \"type\": \"histogram2dcontour\"}], \"mesh3d\": [{\"colorbar\": {\"outlinewidth\": 0, \"ticks\": \"\"}, \"type\": \"mesh3d\"}], \"parcoords\": [{\"line\": {\"colorbar\": {\"outlinewidth\": 0, \"ticks\": \"\"}}, \"type\": \"parcoords\"}], \"pie\": [{\"automargin\": true, \"type\": \"pie\"}], \"scatter\": [{\"marker\": {\"colorbar\": {\"outlinewidth\": 0, \"ticks\": \"\"}}, \"type\": \"scatter\"}], \"scatter3d\": [{\"line\": {\"colorbar\": {\"outlinewidth\": 0, \"ticks\": \"\"}}, \"marker\": {\"colorbar\": {\"outlinewidth\": 0, \"ticks\": \"\"}}, \"type\": \"scatter3d\"}], \"scattercarpet\": [{\"marker\": {\"colorbar\": {\"outlinewidth\": 0, \"ticks\": \"\"}}, \"type\": \"scattercarpet\"}], \"scattergeo\": [{\"marker\": {\"colorbar\": {\"outlinewidth\": 0, \"ticks\": \"\"}}, \"type\": \"scattergeo\"}], \"scattergl\": [{\"marker\": {\"colorbar\": {\"outlinewidth\": 0, \"ticks\": \"\"}}, \"type\": \"scattergl\"}], \"scattermapbox\": [{\"marker\": {\"colorbar\": {\"outlinewidth\": 0, \"ticks\": \"\"}}, \"type\": \"scattermapbox\"}], \"scatterpolar\": [{\"marker\": {\"colorbar\": {\"outlinewidth\": 0, \"ticks\": \"\"}}, \"type\": \"scatterpolar\"}], \"scatterpolargl\": [{\"marker\": {\"colorbar\": {\"outlinewidth\": 0, \"ticks\": \"\"}}, \"type\": \"scatterpolargl\"}], \"scatterternary\": [{\"marker\": {\"colorbar\": {\"outlinewidth\": 0, \"ticks\": \"\"}}, \"type\": \"scatterternary\"}], \"surface\": [{\"colorbar\": {\"outlinewidth\": 0, \"ticks\": \"\"}, \"colorscale\": [[0.0, \"#0d0887\"], [0.1111111111111111, \"#46039f\"], [0.2222222222222222, \"#7201a8\"], [0.3333333333333333, \"#9c179e\"], [0.4444444444444444, \"#bd3786\"], [0.5555555555555556, \"#d8576b\"], [0.6666666666666666, \"#ed7953\"], [0.7777777777777778, \"#fb9f3a\"], [0.8888888888888888, \"#fdca26\"], [1.0, \"#f0f921\"]], \"type\": \"surface\"}], \"table\": [{\"cells\": {\"fill\": {\"color\": \"#EBF0F8\"}, \"line\": {\"color\": \"white\"}}, \"header\": {\"fill\": {\"color\": \"#C8D4E3\"}, \"line\": {\"color\": \"white\"}}, \"type\": \"table\"}]}, \"layout\": {\"annotationdefaults\": {\"arrowcolor\": \"#2a3f5f\", \"arrowhead\": 0, \"arrowwidth\": 1}, \"autotypenumbers\": \"strict\", \"coloraxis\": {\"colorbar\": {\"outlinewidth\": 0, \"ticks\": \"\"}}, \"colorscale\": {\"diverging\": [[0, \"#8e0152\"], [0.1, \"#c51b7d\"], [0.2, \"#de77ae\"], [0.3, \"#f1b6da\"], [0.4, \"#fde0ef\"], [0.5, \"#f7f7f7\"], [0.6, \"#e6f5d0\"], [0.7, \"#b8e186\"], [0.8, \"#7fbc41\"], [0.9, \"#4d9221\"], [1, \"#276419\"]], \"sequential\": [[0.0, \"#0d0887\"], [0.1111111111111111, \"#46039f\"], [0.2222222222222222, \"#7201a8\"], [0.3333333333333333, \"#9c179e\"], [0.4444444444444444, \"#bd3786\"], [0.5555555555555556, \"#d8576b\"], [0.6666666666666666, \"#ed7953\"], [0.7777777777777778, \"#fb9f3a\"], [0.8888888888888888, \"#fdca26\"], [1.0, \"#f0f921\"]], \"sequentialminus\": [[0.0, \"#0d0887\"], [0.1111111111111111, \"#46039f\"], [0.2222222222222222, \"#7201a8\"], [0.3333333333333333, \"#9c179e\"], [0.4444444444444444, \"#bd3786\"], [0.5555555555555556, \"#d8576b\"], [0.6666666666666666, \"#ed7953\"], [0.7777777777777778, \"#fb9f3a\"], [0.8888888888888888, \"#fdca26\"], [1.0, \"#f0f921\"]]}, \"colorway\": [\"#636efa\", \"#EF553B\", \"#00cc96\", \"#ab63fa\", \"#FFA15A\", \"#19d3f3\", \"#FF6692\", \"#B6E880\", \"#FF97FF\", \"#FECB52\"], \"font\": {\"color\": \"#2a3f5f\"}, \"geo\": {\"bgcolor\": \"white\", \"lakecolor\": \"white\", \"landcolor\": \"#E5ECF6\", \"showlakes\": true, \"showland\": true, \"subunitcolor\": \"white\"}, \"hoverlabel\": {\"align\": \"left\"}, \"hovermode\": \"closest\", \"mapbox\": {\"style\": \"light\"}, \"paper_bgcolor\": \"white\", \"plot_bgcolor\": \"#E5ECF6\", \"polar\": {\"angularaxis\": {\"gridcolor\": \"white\", \"linecolor\": \"white\", \"ticks\": \"\"}, \"bgcolor\": \"#E5ECF6\", \"radialaxis\": {\"gridcolor\": \"white\", \"linecolor\": \"white\", \"ticks\": \"\"}}, \"scene\": {\"xaxis\": {\"backgroundcolor\": \"#E5ECF6\", \"gridcolor\": \"white\", \"gridwidth\": 2, \"linecolor\": \"white\", \"showbackground\": true, \"ticks\": \"\", \"zerolinecolor\": \"white\"}, \"yaxis\": {\"backgroundcolor\": \"#E5ECF6\", \"gridcolor\": \"white\", \"gridwidth\": 2, \"linecolor\": \"white\", \"showbackground\": true, \"ticks\": \"\", \"zerolinecolor\": \"white\"}, \"zaxis\": {\"backgroundcolor\": \"#E5ECF6\", \"gridcolor\": \"white\", \"gridwidth\": 2, \"linecolor\": \"white\", \"showbackground\": true, \"ticks\": \"\", \"zerolinecolor\": \"white\"}}, \"shapedefaults\": {\"line\": {\"color\": \"#2a3f5f\"}}, \"ternary\": {\"aaxis\": {\"gridcolor\": \"white\", \"linecolor\": \"white\", \"ticks\": \"\"}, \"baxis\": {\"gridcolor\": \"white\", \"linecolor\": \"white\", \"ticks\": \"\"}, \"bgcolor\": \"#E5ECF6\", \"caxis\": {\"gridcolor\": \"white\", \"linecolor\": \"white\", \"ticks\": \"\"}}, \"title\": {\"x\": 0.05}, \"xaxis\": {\"automargin\": true, \"gridcolor\": \"white\", \"linecolor\": \"white\", \"ticks\": \"\", \"title\": {\"standoff\": 15}, \"zerolinecolor\": \"white\", \"zerolinewidth\": 2}, \"yaxis\": {\"automargin\": true, \"gridcolor\": \"white\", \"linecolor\": \"white\", \"ticks\": \"\", \"title\": {\"standoff\": 15}, \"zerolinecolor\": \"white\", \"zerolinewidth\": 2}}}, \"width\": 1700, \"xaxis\": {\"anchor\": \"y\", \"domain\": [0.0, 0.235], \"title\": {\"text\": \"year\"}}, \"xaxis2\": {\"anchor\": \"y2\", \"domain\": [0.255, 0.49], \"matches\": \"x\", \"title\": {\"text\": \"year\"}}, \"xaxis3\": {\"anchor\": \"y3\", \"domain\": [0.51, 0.745], \"matches\": \"x\", \"title\": {\"text\": \"year\"}}, \"xaxis4\": {\"anchor\": \"y4\", \"domain\": [0.7649999999999999, 0.9999999999999999], \"matches\": \"x\", \"title\": {\"text\": \"year\"}}, \"yaxis\": {\"anchor\": \"x\", \"domain\": [0.0, 1.0], \"title\": {\"text\": \"price\"}}, \"yaxis2\": {\"anchor\": \"x2\", \"domain\": [0.0, 1.0], \"matches\": \"y\", \"showticklabels\": false}, \"yaxis3\": {\"anchor\": \"x3\", \"domain\": [0.0, 1.0], \"matches\": \"y\", \"showticklabels\": false}, \"yaxis4\": {\"anchor\": \"x4\", \"domain\": [0.0, 1.0], \"matches\": \"y\", \"showticklabels\": false}},                        {\"responsive\": true}                    ).then(function(){\n",
       "                            \n",
       "var gd = document.getElementById('4746f138-5f46-4e02-a386-33677e5c7ce9');\n",
       "var x = new MutationObserver(function (mutations, observer) {{\n",
       "        var display = window.getComputedStyle(gd).display;\n",
       "        if (!display || display === 'none') {{\n",
       "            console.log([gd, 'removed!']);\n",
       "            Plotly.purge(gd);\n",
       "            observer.disconnect();\n",
       "        }}\n",
       "}});\n",
       "\n",
       "// Listen for the removal of the full notebook cells\n",
       "var notebookContainer = gd.closest('#notebook-container');\n",
       "if (notebookContainer) {{\n",
       "    x.observe(notebookContainer, {childList: true});\n",
       "}}\n",
       "\n",
       "// Listen for the clearing of the current output cell\n",
       "var outputEl = gd.closest('.output');\n",
       "if (outputEl) {{\n",
       "    x.observe(outputEl, {childList: true});\n",
       "}}\n",
       "\n",
       "                        })                };                });            </script>        </div>"
      ]
     },
     "metadata": {},
     "output_type": "display_data"
    }
   ],
   "source": [
    "fig = px.line(df2, x=\"year\", y=\"price\", color = 'City', facet_col=\"apt_type\",  text='price')\n",
    "fig.update_traces(textposition=\"bottom right\")\n",
    "\n",
    "fig.update_layout(autosize=False, width=1700, height=700)\n",
    "fig.for_each_annotation(lambda a: a.update(text=a.text.split(\"=\")[1],  font={'size':16}))\n",
    "fig.show()\n",
    "\n",
    "fig.write_image('a0.pdf', width=1700, height=700)"
   ]
  },
  {
   "cell_type": "markdown",
   "id": "c82d17b8",
   "metadata": {},
   "source": [
    "# Save output to CSV"
   ]
  },
  {
   "cell_type": "code",
   "execution_count": 14,
   "id": "e6990b9d",
   "metadata": {},
   "outputs": [],
   "source": [
    "df_csv = df.set_index('year')\n",
    "df_csv.to_csv('rent_comparisons.csv')"
   ]
  },
  {
   "cell_type": "code",
   "execution_count": 55,
   "id": "f95c1f17",
   "metadata": {},
   "outputs": [],
   "source": [
    "fig.write_image('aa4_3.pdf')"
   ]
  },
  {
   "cell_type": "markdown",
   "id": "b77f98fe",
   "metadata": {},
   "source": [
    "# FIN"
   ]
  }
 ],
 "metadata": {
  "kernelspec": {
   "display_name": "Python 3 (ipykernel)",
   "language": "python",
   "name": "python3"
  },
  "language_info": {
   "codemirror_mode": {
    "name": "ipython",
    "version": 3
   },
   "file_extension": ".py",
   "mimetype": "text/x-python",
   "name": "python",
   "nbconvert_exporter": "python",
   "pygments_lexer": "ipython3",
   "version": "3.9.7"
  },
  "varInspector": {
   "cols": {
    "lenName": 16,
    "lenType": 16,
    "lenVar": 40
   },
   "kernels_config": {
    "python": {
     "delete_cmd_postfix": "",
     "delete_cmd_prefix": "del ",
     "library": "var_list.py",
     "varRefreshCmd": "print(var_dic_list())"
    },
    "r": {
     "delete_cmd_postfix": ") ",
     "delete_cmd_prefix": "rm(",
     "library": "var_list.r",
     "varRefreshCmd": "cat(var_dic_list()) "
    }
   },
   "types_to_exclude": [
    "module",
    "function",
    "builtin_function_or_method",
    "instance",
    "_Feature"
   ],
   "window_display": false
  }
 },
 "nbformat": 4,
 "nbformat_minor": 5
}
